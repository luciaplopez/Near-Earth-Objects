{
 "cells": [
  {
   "cell_type": "code",
   "execution_count": 1,
   "metadata": {
    "collapsed": true
   },
   "outputs": [],
   "source": [
    "import matplotlib.pyplot as ptl\n",
    "import numpy as np"
   ]
  },
  {
   "cell_type": "markdown",
   "metadata": {},
   "source": [
    "Lecture 03"
   ]
  },
  {
   "cell_type": "markdown",
   "metadata": {},
   "source": [
    "1.  Estimate the temperature of an asteroid at 1 AU and 2 AU distance to the Sun."
   ]
  },
  {
   "cell_type": "code",
   "execution_count": 15,
   "metadata": {},
   "outputs": [],
   "source": [
    "F_earth = 1362  # W/m^2 for 1AU\n",
    "r_ast = 2       # au\n",
    "F_ast = F_earth * ( 1 / r_ast)**2"
   ]
  },
  {
   "cell_type": "code",
   "execution_count": 19,
   "metadata": {},
   "outputs": [
    {
     "data": {
      "text/plain": [
       "116.53736116454763"
      ]
     },
     "execution_count": 19,
     "metadata": {},
     "output_type": "execute_result"
    }
   ],
   "source": [
    "epsilon = 1    # emissivity of the regolith\n",
    "A1 = 0.04      # albedo primitive asteroid\n",
    "A2 = 0.4       # albedo Steins\n",
    "nu = 1         # beaming factor\n",
    "sigma = 5.67e-8 # W/m^2.K\n",
    "\n",
    "T1 = (((1 - A1) * F_earth) / (nu * epsilon * sigma))**(1/4) - 273.15\n",
    "T1"
   ]
  },
  {
   "cell_type": "code",
   "execution_count": 20,
   "metadata": {},
   "outputs": [
    {
     "data": {
      "text/plain": [
       "2.4005756221429237"
      ]
     },
     "execution_count": 20,
     "metadata": {},
     "output_type": "execute_result"
    }
   ],
   "source": [
    "T2 = (((1 - A1) * F_ast) / (nu * epsilon * sigma))**(1/4) - 273.15\n",
    "T2"
   ]
  },
  {
   "cell_type": "markdown",
   "metadata": {},
   "source": [
    "2. What is the largest distance in which it can image an asteroid with 100 m size? "
   ]
  },
  {
   "cell_type": "code",
   "execution_count": null,
   "metadata": {
    "collapsed": true
   },
   "outputs": [],
   "source": [
    "P_recived = 1e-16 #W\n",
    "P_emit =\n",
    "GA_radar =\n",
    "R = \n",
    "A_antenna =\n",
    "K_a = \n",
    "P_recived = (P_emit * GA_radar)/((4 * np.pi)**2 * R*4) * A_antenna * K_a"
   ]
  }
 ],
 "metadata": {
  "kernelspec": {
   "display_name": "Python [conda env:science]",
   "language": "python",
   "name": "conda-env-science-py"
  },
  "language_info": {
   "codemirror_mode": {
    "name": "ipython",
    "version": 3
   },
   "file_extension": ".py",
   "mimetype": "text/x-python",
   "name": "python",
   "nbconvert_exporter": "python",
   "pygments_lexer": "ipython3",
   "version": "3.5.2"
  }
 },
 "nbformat": 4,
 "nbformat_minor": 2
}
