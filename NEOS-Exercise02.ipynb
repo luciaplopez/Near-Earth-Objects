{
 "cells": [
  {
   "cell_type": "code",
   "execution_count": 2,
   "metadata": {},
   "outputs": [],
   "source": [
    "#import matplotlib.pyplot as ptl\n",
    "import numpy as np"
   ]
  },
  {
   "cell_type": "markdown",
   "metadata": {},
   "source": [
    "Lecture 03"
   ]
  },
  {
   "cell_type": "markdown",
   "metadata": {},
   "source": [
    "1.  Estimate the temperature of an asteroid at 1 AU and 2 AU distance to the Sun."
   ]
  },
  {
   "cell_type": "code",
   "execution_count": 3,
   "metadata": {},
   "outputs": [],
   "source": [
    "F_earth = 1362  # W/m^2 for 1AU\n",
    "r_ast = 2       # au\n",
    "F_ast = F_earth * ( 1 / r_ast)**2"
   ]
  },
  {
   "cell_type": "code",
   "execution_count": 6,
   "metadata": {},
   "outputs": [
    {
     "data": {
      "text/plain": [
       "2.4005756221429237"
      ]
     },
     "execution_count": 6,
     "metadata": {},
     "output_type": "execute_result"
    }
   ],
   "source": [
    "epsilon = 1      # emissivity of the regolith\n",
    "A1 = 0.04        # albedo primitive asteroid\n",
    "A2 = 0.4         # albedo Steins\n",
    "eta = 1           # beaming factor\n",
    "sigma = 5.67e-8  # stefan boltzmann constant (W/m²·K)\n",
    "\n",
    "T1 = (((1 - A1) * F_earth) / (nu * epsilon * sigma))**(1/4) - 273.15 # This time F_ast = F_earth as r = 1 au\n",
    "T1"
   ]
  },
  {
   "cell_type": "code",
   "execution_count": 5,
   "metadata": {},
   "outputs": [
    {
     "data": {
      "text/plain": [
       "2.4005756221429237"
      ]
     },
     "execution_count": 5,
     "metadata": {},
     "output_type": "execute_result"
    }
   ],
   "source": [
    "T2 = (((1 - A1) * F_ast) / (nu * epsilon * sigma))**(1/4) - 273.15\n",
    "T2"
   ]
  },
  {
   "cell_type": "code",
   "execution_count": 16,
   "metadata": {},
   "outputs": [
    {
     "name": "stdout",
     "output_type": "stream",
     "text": [
      "The temperature of the object is 2.4005756221429237 ºC\n"
     ]
    }
   ],
   "source": [
    "# function form\n",
    "A = A1 # chose albedo\n",
    "# A = int(input('Enter the albedo please:'))\n",
    "\n",
    "def temperature (A, F_ast, eta, epsilon):\n",
    "    T = (((1 - A1) * F_ast) / (nu * epsilon * sigma))**(1/4) - 273.15\n",
    "    print(\"The temperature of the object is\",T,\"ºC\")\n",
    "    return T\n",
    "    \n",
    "T = temperature(A,F_ast,eta,epsilon)"
   ]
  },
  {
   "cell_type": "markdown",
   "metadata": {},
   "source": [
    "2. What is the largest distance in which it can image an asteroid with 100 m size? "
   ]
  },
  {
   "cell_type": "code",
   "execution_count": 21,
   "metadata": {},
   "outputs": [
    {
     "data": {
      "text/plain": [
       "2475743559.2072606"
      ]
     },
     "execution_count": 21,
     "metadata": {},
     "output_type": "execute_result"
    }
   ],
   "source": [
    "P_recived = 1e-16   # Power received (W)\n",
    "P_emit = 400e6      # Power emitted (W)\n",
    "GA_radar = 80       # Gain (dB)\n",
    "R = 150             # Radius of the antenna (m)\n",
    "K_a = 0.7           # Effectivity\n",
    "\n",
    "A_antenna = np.pi*R**2  # Area of the antenna (m²)\n",
    "\n",
    "# Convert the gain from dB to ... %TODO\n",
    "GA_radar = 1e7\n",
    "\n",
    "P_received = (P_emit * GA_radar)/((4 * np.pi)**2 * R**4) * A_antenna * K_a\n",
    "P_received"
   ]
  },
  {
   "cell_type": "code",
   "execution_count": null,
   "metadata": {},
   "outputs": [],
   "source": []
  }
 ],
 "metadata": {
  "kernelspec": {
   "display_name": "Python [conda env:NEOs]",
   "language": "python",
   "name": "conda-env-NEOs-py"
  },
  "language_info": {
   "codemirror_mode": {
    "name": "ipython",
    "version": 3
   },
   "file_extension": ".py",
   "mimetype": "text/x-python",
   "name": "python",
   "nbconvert_exporter": "python",
   "pygments_lexer": "ipython3",
   "version": "3.6.5"
  }
 },
 "nbformat": 4,
 "nbformat_minor": 2
}
