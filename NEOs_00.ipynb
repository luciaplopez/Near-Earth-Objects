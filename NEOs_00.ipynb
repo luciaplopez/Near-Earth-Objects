{
 "cells": [
  {
   "cell_type": "markdown",
   "metadata": {},
   "source": [
    "# The NEOs Jupyter Notebooks"
   ]
  },
  {
   "cell_type": "markdown",
   "metadata": {},
   "source": [
    "The Near Earth Objects (NEOs) curse at the Technical University of Munich includes some exercises using Python. The pourpouse of this notebook is to help you installing Python so you can follow them.\n",
    "\n",
    "As you can see, this and other materials have been ported from Python scripts to the Jupyter Notebook. It allows you to combine cells excecuting code with Markdown text and other multimedia content.\n",
    "\n",
    "Now, lets install Python!"
   ]
  },
  {
   "cell_type": "markdown",
   "metadata": {},
   "source": [
    "# How to install Python "
   ]
  },
  {
   "cell_type": "markdown",
   "metadata": {},
   "source": [
    "### 1. Download Python"
   ]
  },
  {
   "cell_type": "markdown",
   "metadata": {},
   "source": [
    "Sometimes installing Python and certain packages may result a bit messy.\n",
    "\n",
    "Anaconda is a Python distribution that embraces several libraries for Scientific Computing in Python. Additionlly, we will use to create a virtual environment to install Python in, so you do not break the built-in Python installition of your system.\n",
    "\n",
    "All you need to do is:\n",
    "- Go to [Anaconda's downloads webpage](https://www.anaconda.com/download/#macos).\n",
    "- Select your operating system (Windows, macOS or Linux).\n",
    "- Download Anaconda (let's use the Python 3.X version)."
   ]
  },
  {
   "cell_type": "markdown",
   "metadata": {},
   "source": [
    "### 2. Python installation"
   ]
  },
  {
   "cell_type": "markdown",
   "metadata": {},
   "source": [
    "If you need more help, [read the docs](https://docs.anaconda.com/anaconda/install/). For Windows and macOS the installation uses a graphic installer, so it will be easy for you. Linux needs to run a bash script, just follow the instruction.\n",
    "\n",
    "Ask Google!\n",
    "\n",
    "In order to use Anaconda, open your terminal and use the following commands to update the packages.\n",
    "\n",
    "```\n",
    "conda update anaconda\n",
    "conda update --all\n",
    "```\n",
    "\n",
    "In case of having problems at this point, [uninstall Anaconda](https://docs.anaconda.com/anaconda/install/uninstall) and install it again from a good Internet connection.\n",
    "\n",
    "You have installed Python!"
   ]
  },
  {
   "cell_type": "markdown",
   "metadata": {},
   "source": [
    "### 3. Create a virtual environment and install the necessary packages"
   ]
  },
  {
   "cell_type": "markdown",
   "metadata": {},
   "source": [
    "We are going to create a virtual environment to avoid breaking the Python installation of your system.\n",
    "\n",
    "Create a virtual enviroment with Python 3.6 and the name `neos_course`.\n",
    "\n",
    "```\n",
    "conda create --name neos_course python=3.6\n",
    "```\n",
    "\n",
    "Activate the virtual environment. **You have to do it every time you want to use it!**.\n",
    "\n",
    "```\n",
    "source activate neos_course\n",
    "```\n",
    "\n",
    "Now lets install the necessary packages to run the course code.\n",
    "\n",
    "```\n",
    "conda install jupyter numpy matplotlib scipy\n",
    "```\n",
    "\n",
    "If you need to install any other package at some point, use:\n",
    "\n",
    "```\n",
    "conda install [your desired package]\n",
    "```"
   ]
  },
  {
   "cell_type": "markdown",
   "metadata": {},
   "source": [
    "### 4. Open the Jupyter Notebook"
   ]
  },
  {
   "cell_type": "markdown",
   "metadata": {},
   "source": [
    "Once you have downloaded the course materials you can open your terminal and type:\n",
    "\n",
    "```\n",
    "source activate neos_couse\n",
    "jupyter notebook\n",
    "```\n",
    "\n",
    "After that, the Jupyter notebook will open in your browser. Now you just have to navigate in your file system to the course material and open the first notebook."
   ]
  },
  {
   "cell_type": "markdown",
   "metadata": {},
   "source": [
    "### 5. More tutorials on Python"
   ]
  },
  {
   "cell_type": "markdown",
   "metadata": {},
   "source": [
    "The Internet is plenty of tutorials and books for you to lear Python. Just look for the one that fits you better, but you can start [here](http://nbviewer.jupyter.org/github/jakevdp/WhirlwindTourOfPython/blob/master/Index.ipynb)."
   ]
  }
 ],
 "metadata": {
  "kernelspec": {
   "display_name": "Python 3",
   "language": "python",
   "name": "python3"
  },
  "language_info": {
   "codemirror_mode": {
    "name": "ipython",
    "version": 3
   },
   "file_extension": ".py",
   "mimetype": "text/x-python",
   "name": "python",
   "nbconvert_exporter": "python",
   "pygments_lexer": "ipython3",
   "version": "3.6.2"
  }
 },
 "nbformat": 4,
 "nbformat_minor": 2
}
