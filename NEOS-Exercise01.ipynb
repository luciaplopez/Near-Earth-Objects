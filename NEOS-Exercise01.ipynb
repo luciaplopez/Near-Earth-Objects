{
 "cells": [
  {
   "cell_type": "code",
   "execution_count": 1,
   "metadata": {},
   "outputs": [],
   "source": [
    "#import matplotlib.pyplot as ptl\n",
    "import numpy as np\n",
    "from scipy.optimize import fsolve"
   ]
  },
  {
   "cell_type": "markdown",
   "metadata": {},
   "source": [
    "Lecture 02"
   ]
  },
  {
   "cell_type": "markdown",
   "metadata": {},
   "source": [
    "1. Compute the flux density at the asteroid"
   ]
  },
  {
   "cell_type": "markdown",
   "metadata": {},
   "source": [
    "Task: Get a feeling of the sensitivity of ESA's 1-m telescope"
   ]
  },
  {
   "cell_type": "markdown",
   "metadata": {},
   "source": [
    "a) Compute the flux density in W/m^2 at the asteroid"
   ]
  },
  {
   "cell_type": "code",
   "execution_count": 2,
   "metadata": {},
   "outputs": [],
   "source": [
    "# Sun:\n",
    "mv = -26.8     # \n",
    "M_sun = -27.1  # Magnitude of the Sun\n",
    "F_earth = 1362 # Magnitude of the Sun in the Earth (W/m²)"
   ]
  },
  {
   "cell_type": "code",
   "execution_count": 3,
   "metadata": {},
   "outputs": [
    {
     "data": {
      "text/plain": [
       "340.5"
      ]
     },
     "execution_count": 3,
     "metadata": {},
     "output_type": "execute_result"
    }
   ],
   "source": [
    "# Flux density at the asteroid\n",
    "r_ast = 2 # au\n",
    "au = 1\n",
    "F_ast = F_earth * (au / r_ast)**2\n",
    "F_ast"
   ]
  },
  {
   "cell_type": "markdown",
   "metadata": {},
   "source": [
    "b) Compute the flux density from the asteroid"
   ]
  },
  {
   "cell_type": "code",
   "execution_count": 4,
   "metadata": {},
   "outputs": [
    {
     "data": {
      "text/plain": [
       "4.7544901376933855e-17"
      ]
     },
     "execution_count": 4,
     "metadata": {},
     "output_type": "execute_result"
    }
   ],
   "source": [
    "p = 0.05               # albedo of the asteriod\n",
    "r = 500                # radius of the asteroid \n",
    "S = np.pi * r**2       # cross-sectional area of the asteroid\n",
    "phi = 0                # angle between the observer and the light\n",
    "r_ast_earth = 1.496e11 # distance between the asteroid and the Earth (150 millones km)\n",
    "\n",
    "f = 1/2 * (1 + np.cos(np.deg2rad(phi))) # form function \n",
    "F_ast_earth = F_ast * 1/(4 * np.pi * r_ast_earth**2) * p * S * f\n",
    "F_ast_earth"
   ]
  },
  {
   "cell_type": "markdown",
   "metadata": {},
   "source": [
    "- Would you expect that it can be detected with ESA's telescope on Tenerife?"
   ]
  },
  {
   "cell_type": "code",
   "execution_count": 5,
   "metadata": {},
   "outputs": [
    {
     "data": {
      "text/plain": [
       "21.542682891761885"
      ]
     },
     "execution_count": 5,
     "metadata": {},
     "output_type": "execute_result"
    }
   ],
   "source": [
    "m_sun = M_sun\n",
    "m_ast = m_sun - 2.5 * np.log10(F_ast_earth / F_earth) \n",
    "m_ast"
   ]
  },
  {
   "cell_type": "markdown",
   "metadata": {},
   "source": [
    "We could barely see it from Tenerife"
   ]
  },
  {
   "cell_type": "markdown",
   "metadata": {},
   "source": [
    "c) Compute the flux on a pixel on the detector "
   ]
  },
  {
   "cell_type": "code",
   "execution_count": 6,
   "metadata": {},
   "outputs": [
    {
     "data": {
      "text/plain": [
       "2.0164506238992595e-17"
      ]
     },
     "execution_count": 6,
     "metadata": {},
     "output_type": "execute_result"
    }
   ],
   "source": [
    "F_in = F_ast_earth     # Incoming flux density from the asteroid\n",
    "tau = 0.6              # Throughput (%)\n",
    "d = 1                  # Diameter of the mirror (m²)\n",
    "\n",
    "A = (np.pi / 4) * d**2 # Surface area of the prime mirror (m²)\n",
    "A_obstr = 0.1 * A      # Obstructed area (m²)\n",
    "\n",
    "F_detect = F_in * (A - A_obstr) * tau # Flux detector - detected energy per time (W/m²)\n",
    "F_detect"
   ]
  },
  {
   "cell_type": "markdown",
   "metadata": {},
   "source": [
    "d) Compute the SNR for the 1 km asteroid"
   ]
  },
  {
   "cell_type": "code",
   "execution_count": 7,
   "metadata": {},
   "outputs": [
    {
     "data": {
      "text/plain": [
       "3.3107913333333333e-19"
      ]
     },
     "execution_count": 7,
     "metadata": {},
     "output_type": "execute_result"
    }
   ],
   "source": [
    "# Energy of one photon\n",
    "h = 6.626e-34  # Planck's constant (Js)\n",
    "c = 2.998e8    # Speed of light (m/s)\n",
    "l = 600e-9     # lambda = wavelenght (m)\n",
    "\n",
    "E_phot = h * c / l\n",
    "E_phot"
   ]
  },
  {
   "cell_type": "code",
   "execution_count": 8,
   "metadata": {},
   "outputs": [
    {
     "data": {
      "text/plain": [
       "1299.3151479148148"
      ]
     },
     "execution_count": 8,
     "metadata": {},
     "output_type": "execute_result"
    }
   ],
   "source": [
    "t = 60     # Time of exposure (s)\n",
    "p_px = 0.4 # Percentage of pixels (%)\n",
    "QE = 0.8   # Quatum efficiency (%)\n",
    "g = 0.9    # Gain (e-/DN)\n",
    "\n",
    "DN_signal = t * p_px * 1 / g * F_detect / E_phot * QE # Digital Number\n",
    "DN_signal"
   ]
  },
  {
   "cell_type": "code",
   "execution_count": 27,
   "metadata": {},
   "outputs": [
    {
     "data": {
      "text/plain": [
       "19.815948332191795"
      ]
     },
     "execution_count": 27,
     "metadata": {},
     "output_type": "execute_result"
    }
   ],
   "source": [
    "DN_bias = 3000\n",
    "DN_dark = 0\n",
    "DN_readout = 0\n",
    "DN_sky = 0\n",
    "\n",
    "SNR = DN_signal / np.sqrt(DN_signal + DN_bias + DN_dark + DN_readout + DN_sky) # Signal-to-Noise ratio\n",
    "SNR"
   ]
  },
  {
   "cell_type": "markdown",
   "metadata": {},
   "source": [
    "e) Compute the minimum Digital Number and magnitude of an asteroid on the sensor for a Signal-to-Noise ratio of 5"
   ]
  },
  {
   "cell_type": "code",
   "execution_count": 57,
   "metadata": {},
   "outputs": [
    {
     "data": {
      "text/plain": [
       "0.09127188220461405"
      ]
     },
     "execution_count": 57,
     "metadata": {},
     "output_type": "execute_result"
    }
   ],
   "source": [
    "SNR = 5\n",
    "\n",
    "diff = 1\n",
    "tol = 1e-3\n",
    "DN_signal = np.empty(100)\n",
    "DN_signal[0] = 1\n",
    "i = 0\n",
    "\n",
    "while abs(diff) >= tol:\n",
    "    DN_signal[i+1] = SNR / np.sqrt(DN_signal[i] + DN_bias + DN_dark + DN_readout + DN_sky)\n",
    "    diff = np.absolute(DN_signal[i+1] - DN_signal[i])\n",
    "    DN_signal[i+2] = DN_signal[i]\n",
    "    i+=1\n",
    "\n",
    "DN_signal[i+1]"
   ]
  },
  {
   "cell_type": "code",
   "execution_count": null,
   "metadata": {},
   "outputs": [],
   "source": [
    "DN_signal_i = 1\n",
    "#SNR = DN_signal / np.sqrt(DN_signal + DN_bias + DN_dark + DN_readout + DN_sky)\n",
    "SNR = 5\n",
    "#DN_signal_f = fsolve(SNR, DN_signal_i)\n",
    "\n",
    "def DN_signal(SNR):\n",
    "  return SNR / np.sqrt(DN_signal + DN_bias + DN_dark + DN_readout + DN_sky)\n",
    "\n",
    "DN_sifnal_f = fsolve(DN_signal, DN_signal_i)"
   ]
  }
 ],
 "metadata": {
  "kernelspec": {
   "display_name": "Python [default]",
   "language": "python",
   "name": "python3"
  },
  "language_info": {
   "codemirror_mode": {
    "name": "ipython",
    "version": 3
   },
   "file_extension": ".py",
   "mimetype": "text/x-python",
   "name": "python",
   "nbconvert_exporter": "python",
   "pygments_lexer": "ipython3",
   "version": "3.6.4"
  }
 },
 "nbformat": 4,
 "nbformat_minor": 2
}
